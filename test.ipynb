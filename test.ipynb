{
 "cells": [
  {
   "cell_type": "code",
   "execution_count": 10,
   "metadata": {},
   "outputs": [],
   "source": [
    "\n",
    "import os\n",
    "import time\n",
    "\n",
    "from langchain.chat_models import ChatOpenAI\n",
    "openai_api_key = \"sk-lAmlRoBhqOiU7Zz82aBeAc84969d4e3cB338326cD5A0855c\"\n",
    "openai_base = \"https://api.ezchat.top/v1\"\n",
    "llm = ChatOpenAI(\n",
    "            model_name=\"gpt-3.5-turbo\",\n",
    "            temperature=0,\n",
    "            request_timeout=30,\n",
    "            openai_api_key= openai_api_key,\n",
    "            openai_api_base= openai_base )\n",
    "            # openai_api_key= os.environ[\"OPENAI_API_KEY\"],\n",
    "            # openai_api_base= os.environ[\"OPENAI_API_BASE\"] )\n",
    "\n"
   ]
  },
  {
   "cell_type": "code",
   "execution_count": 11,
   "metadata": {},
   "outputs": [],
   "source": [
    "from langchain.schema import AIMessage, HumanMessage, SystemMessage\n",
    "message = HumanMessage(content='hello')\n",
    "assert isinstance(message, HumanMessage)\n",
    "# llm(message)"
   ]
  },
  {
   "cell_type": "code",
   "execution_count": 12,
   "metadata": {},
   "outputs": [],
   "source": [
    "ai_message = llm([SystemMessage(content=\"You are a nice AI bot that helps a user figure out where to travel in one short sentence\"),\n",
    "                  message])"
   ]
  },
  {
   "cell_type": "code",
   "execution_count": 13,
   "metadata": {},
   "outputs": [
    {
     "data": {
      "text/plain": [
       "AIMessage(content='Hello! How can I assist you today?', additional_kwargs={}, example=False)"
      ]
     },
     "execution_count": 13,
     "metadata": {},
     "output_type": "execute_result"
    }
   ],
   "source": [
    "ai_message"
   ]
  },
  {
   "cell_type": "code",
   "execution_count": 14,
   "metadata": {},
   "outputs": [],
   "source": [
    "message = '''\n",
    "****Action Agent ai message****\n",
    "Explain: Since there is no code from the last round and no execution error, there is nothing to explain. The task is to search all the text files in the parent folder.\n",
    "\n",
    "Plan:\n",
    "1) Import the necessary libraries. In this case, we will need the os and asyncio libraries.\n",
    "2) Define an async function that takes a filepath as an argument.\n",
    "3) In the function, use os.path.dirname to get the parent directory of the given filepath.\n",
    "4) Use os.listdir to get a list of all files in the parent directory.\n",
    "5) Filter the list to only include files that end with '.txt' (text files).\n",
    "6) Return the list of text files.\n",
    "\n",
    "Code: \n",
    "```python\n",
    "import os\n",
    "import asyncio\n",
    "\n",
    "async def search_text_files(filepath: str) -> list:\n",
    "    parent_dir = os.path.dirname(filepath)\n",
    "    all_files = os.listdir(parent_dir)\n",
    "    text_files = [file for file in all_files if file.endswith('.txt')]\n",
    "    return text_files\n",
    "```\n",
    "'''"
   ]
  },
  {
   "cell_type": "code",
   "execution_count": 15,
   "metadata": {},
   "outputs": [],
   "source": [
    "import re\n",
    "lang = 'python'\n",
    "code_pattern = rf\"```{lang}.*?\\s+(.*?)```\"\n",
    "                \n",
    "match = re.search(code_pattern, message, re.DOTALL)\n",
    "if match:\n",
    "    code = match.group(1)\n",
    "else:\n",
    "    print(f\"{code_pattern} not match following text:\")\n",
    "    print(message)"
   ]
  },
  {
   "cell_type": "code",
   "execution_count": 17,
   "metadata": {},
   "outputs": [
    {
     "name": "stdout",
     "output_type": "stream",
     "text": [
      "import os\n",
      "import asyncio\n",
      "\n",
      "async def search_text_files(filepath: str) -> list:\n",
      "    parent_dir = os.path.dirname(filepath)\n",
      "    all_files = os.listdir(parent_dir)\n",
      "    text_files = [file for file in all_files if file.endswith('.txt')]\n",
      "    return text_files\n",
      "\n"
     ]
    }
   ],
   "source": [
    "print(code)"
   ]
  },
  {
   "cell_type": "code",
   "execution_count": 5,
   "metadata": {},
   "outputs": [
    {
     "name": "stdout",
     "output_type": "stream",
     "text": [
      "\n",
      "\n"
     ]
    }
   ],
   "source": [
    "\n",
    "import PyPDF2\n",
    "from PyPDF2 import PdfFileReader\n",
    " \n",
    "# Creating a pdf file object.\n",
    "pdf = open(\"/home/bsz/data/chatglm/document_agent/ckpt/pdf_files/202303181737070649.pdf\", \"rb\")\n",
    " \n",
    "# Creating pdf reader object.\n",
    "pdf_reader = PyPDF2.PdfFileReader(pdf)\n",
    " \n",
    "# Checking total number of pages in a pdf file.\n",
    "# print(\"Total number of Pages:\", pdf_reader.numPages)\n",
    " \n",
    "# Creating a page object.\n",
    "page = pdf_reader.getPage(1)\n",
    " \n",
    "# Extract data from a specific page number.\n",
    "print(page.extractText())\n",
    " \n",
    "# Closing the object.\n",
    "pdf.close()"
   ]
  }
 ],
 "metadata": {
  "kernelspec": {
   "display_name": "metagpt",
   "language": "python",
   "name": "python3"
  },
  "language_info": {
   "codemirror_mode": {
    "name": "ipython",
    "version": 3
   },
   "file_extension": ".py",
   "mimetype": "text/x-python",
   "name": "python",
   "nbconvert_exporter": "python",
   "pygments_lexer": "ipython3",
   "version": "3.10.6"
  }
 },
 "nbformat": 4,
 "nbformat_minor": 2
}
